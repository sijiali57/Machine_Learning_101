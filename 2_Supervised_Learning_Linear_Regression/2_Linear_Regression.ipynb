{
 "cells": [
  {
   "cell_type": "code",
   "execution_count": 4,
   "metadata": {},
   "outputs": [
    {
     "name": "stdout",
     "output_type": "stream",
     "text": [
      "  Date of Sale (dd/mm/yyyy)                                   Address  \\\n",
      "0                02/01/2018                 1 ABBEY ST, HOWTH, DUBLIN   \n",
      "1                02/01/2018         1 ROSEVILLE, LOWER ROAD, SHANKILL   \n",
      "2                02/01/2018            19 ULVERTON RD, DALKEY, DUBLIN   \n",
      "3                02/01/2018        236 PHIBSBORO RD, DUBLIN 7, DUBLIN   \n",
      "4                02/01/2018  3 COLLEGE COURT, PORTRANE ROAD, DONABATE   \n",
      "\n",
      "  Postal Code  County      Price  Not Full Market Price VAT Exclusive  \\\n",
      "0    Dublin 7  Dublin   710000.00                    No            No   \n",
      "1   Dublin 18  Dublin   627230.70                    No            No   \n",
      "2         NaN  Dublin  1130000.00                    No            No   \n",
      "3    Dublin 7  Dublin   277000.00                    No            No   \n",
      "4         NaN  Dublin   348017.62                    No            No   \n",
      "\n",
      "                 Description of Property Property Size Description  \n",
      "0  Second-Hand Dwelling house /Apartment                       NaN  \n",
      "1  Second-Hand Dwelling house /Apartment                       NaN  \n",
      "2  Second-Hand Dwelling house /Apartment                       NaN  \n",
      "3  Second-Hand Dwelling house /Apartment                       NaN  \n",
      "4  Second-Hand Dwelling house /Apartment                       NaN  \n"
     ]
    }
   ],
   "source": [
    "import pandas as pd\n",
    "\n",
    "df = pd.read_csv(\"/Users/sijia.li/Machine_Learning_101/2_Supervised_Learning_Linear_Regression/PPR-2018-Dublin.csv\")\n",
    "print df[:5]\n"
   ]
  },
  {
   "cell_type": "code",
   "execution_count": 11,
   "metadata": {
    "scrolled": true
   },
   "outputs": [
    {
     "data": {
      "text/plain": [
       "Index([u'Date of Sale (dd/mm/yyyy)', u'Address', u'Postal Code', u'County',\n",
       "       u' Price ', u'Not Full Market Price', u'VAT Exclusive',\n",
       "       u'Description of Property', u'Property Size Description'],\n",
       "      dtype='object')"
      ]
     },
     "execution_count": 11,
     "metadata": {},
     "output_type": "execute_result"
    }
   ],
   "source": [
    "df.columns"
   ]
  },
  {
   "cell_type": "markdown",
   "metadata": {},
   "source": [
    "There are two competing concerns: with less training data, your parameter estimates have greater variance. With less testing data, your performance statistic will have greater variance. Broadly speaking you should be concerned with dividing data such that neither variance is too high, which is more to do with the absolute number of instances in each category rather than the percentage.\n",
    "\n",
    "If you have a total of 100 instances, you're probably stuck with cross validation as no single split is going to give you satisfactory variance in your estimates. If you have 100,000 instances, it doesn't really matter whether you choose an 80:20 split or a 90:10 split (indeed you may choose to use less training data if your method is particularly computationally intensive).\n",
    "\n",
    "Assuming you have enough data to do proper held-out test data (rather than cross-validation), the following is an instructive way to get a handle on variances:\n",
    "\n",
    "Split your data into training and testing (80/20 is indeed a good starting point)\n",
    "Split the training data into training and validation (again, 80/20 is a fair split).\n",
    "Subsample random selections of your training data, train the classifier with this, and record the performance on the validation set\n",
    "Try a series of runs with different amounts of training data: randomly sample 20% of it, say, 10 times and observe performance on the validation data, then do the same with 40%, 60%, 80%. You should see both greater performance with more data, but also lower variance across the different random samples\n",
    "To get a handle on variance due to the size of test data, perform the same procedure in reverse. Train on all of your training data, then randomly sample a percentage of your validation data a number of times, and observe performance. You should now find that the mean performance on small samples of your validation data is roughly the same as the performance on all the validation data, but the variance is much higher with smaller numbers of test samples\n",
    "\n",
    "\n",
    "Last year, I followed Prof: Andrew Ng’s online machine learning course. His recommendation was\n",
    "\n",
    "Training: 60%\n",
    "\n",
    "Cross validation: 20%\n",
    "\n",
    "Testing: 20%"
   ]
  },
  {
   "cell_type": "code",
   "execution_count": null,
   "metadata": {},
   "outputs": [],
   "source": [
    "# Get target dataset\n",
    "df_re = df[['Postal Code','Price']]\n"
   ]
  },
  {
   "cell_type": "code",
   "execution_count": 31,
   "metadata": {},
   "outputs": [
    {
     "name": "stdout",
     "output_type": "stream",
     "text": [
      "[Listing (Apt 2 Crosbies Yard, Ifsc, Dublin 1), Listing (Dorset Street Upper, Dublin 1), Listing (Custom House Harbour, Dublin 1), Listing (124 Capel St, Dublin 1), Listing (Talbot Hall, Talbot Street, Dublin 1), Listing (Clarion Quay, Mayor Street, North Wall., Dublin 1), Listing (Parnell Street, Dublin 1), Listing (North Great George'S Street 42, North Circular Road, Dublin 1), Listing (Kingsmill Court, Bolton Street, Dublin 1, Dublin 1), Listing (Smithfield Village, Bowe Street Dublin7, Smithfield, Dublin 1), Listing (North Great George'S Street, Dublin 1), Listing (Apt 10, 33 Mountjoy Square, Dublin 1), Listing (Burton House, Custom House Square, Mayor St. Lower, Ifsc, Dublin 1), Listing (The Argyle, Custom House Quay, Ifsc, Dublin 1), Listing (Market Square, Green Street, Dublin 1), Listing (Moy House, Custom House Square Ifsc, Ifsc, Dublin 1), Listing (51), Listing (51), Listing (Mayor Street Lower, Dublin 1), Listing (Baileys Court, Baileys Row, Dublin 1)]\n",
      "Done\n",
      "Done\n",
      "Done\n",
      "Done\n",
      "Done\n",
      "Done\n",
      "Done\n",
      "Done\n",
      "Done\n",
      "Done\n",
      "Done\n",
      "Done\n",
      "Done\n",
      "Done\n",
      "Done\n",
      "Done\n",
      "Done\n",
      "Done\n",
      "Done\n",
      "Done\n",
      "[u'\\u20ac1,700 Per month', u'\\u20ac1,500 Per month', u'\\u20ac1,700 Per month', u'\\u20ac800 Per week', u'\\u20ac2,000 Per month', u'\\u20ac2,950 Per month', u'\\u20ac1,750 Per month', u'\\u20ac450 Per week', u'\\u20ac1,500 Per month', u'\\u20ac2,300 Per month', u'\\u20ac1,700 Per month', u'\\u20ac1,550 Per month', u'\\u20ac3,450 Per month', u'\\u20ac3,800 Per month', u'\\u20ac1,600 Per month', u'\\u20ac1,700 Per month', u'\\u20ac2,200 Per month', u'\\u20ac1,800 Per month', u'\\u20ac710 Per week', u'\\u20ac2,000 Per month']\n"
     ]
    }
   ],
   "source": [
    "from daftlistings import Daft, RentType\n",
    "\n",
    "daft = Daft()\n",
    "\n",
    "daft.set_county(\"Dublin City\")\n",
    "daft.set_area(\"Dublin 1\")\n",
    "daft.set_listing_type(RentType.APARTMENTS)\n",
    "# daft.set_min_price(1000)\n",
    "# daft.set_max_price(2000)\n",
    "# daft.set_furnished(True)\n",
    "# daft.set_keywords(['quiet'])\n",
    "\n",
    "listings = daft.search()\n",
    "print listings\n",
    "address,rent=[],[]\n",
    "offset = 0\n",
    "\n",
    "for listing in listings:\n",
    "    address.append(listing.formalised_address)\n",
    "    rent.append(listing.price)\n",
    "    print(\"Done\")\n",
    "    offset += 100\n",
    "    \n",
    "print(rent)"
   ]
  },
  {
   "cell_type": "code",
   "execution_count": 25,
   "metadata": {},
   "outputs": [
    {
     "data": {
      "text/plain": [
       "[u'Monck Place, Phibsborough, Dublin 7',\n",
       " u'55 Church Street, Howth, Dublin 13',\n",
       " u'Gateway Student Village, Ballymun Road, Dublin 9, Glasnevin, Dublin 9',\n",
       " u'Castlecurragh, Mulhuddart, Dublin 15',\n",
       " u'Monksfield, Clondalkin, Dublin 22',\n",
       " u'Mayor Street, Dublin 1',\n",
       " u'Exchange Hall, Tallaght, Dublin 24',\n",
       " u'Eaton Square, Terenure, Dublin 6',\n",
       " u'Mountjoy Square, Dublin 1',\n",
       " u'Student Twin Ensuite, Aparto Dorset Point, Dublin 1']"
      ]
     },
     "execution_count": 25,
     "metadata": {},
     "output_type": "execute_result"
    }
   ],
   "source": [
    "address"
   ]
  }
 ],
 "metadata": {
  "kernelspec": {
   "display_name": "Python 2",
   "language": "python",
   "name": "python2"
  },
  "language_info": {
   "codemirror_mode": {
    "name": "ipython",
    "version": 2
   },
   "file_extension": ".py",
   "mimetype": "text/x-python",
   "name": "python",
   "nbconvert_exporter": "python",
   "pygments_lexer": "ipython2",
   "version": "2.7.14"
  }
 },
 "nbformat": 4,
 "nbformat_minor": 2
}
