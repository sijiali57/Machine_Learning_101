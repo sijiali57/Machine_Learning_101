{
 "cells": [
  {
   "cell_type": "code",
   "execution_count": 8,
   "metadata": {},
   "outputs": [
    {
     "name": "stdout",
     "output_type": "stream",
     "text": [
      "['Date of Sale (dd/mm/yyyy)', 'Address', 'Postal Code', 'County', ' Price ', 'Not Full Market Price', 'VAT Exclusive', 'Description of Property', 'Property Size Description']\n"
     ]
    }
   ],
   "source": [
    "# !pip install pandas\n",
    "# !pip install numpy\n",
    "import pandas as pd\n",
    "\n",
    "df = pd.read_csv(\"~/Documents/Machine_Learning_101/2_Supervised_Learning_Linear_Regression/PPR-2018-Dublin.csv\")\n",
    "print list(df.columns.values)\n",
    "\n"
   ]
  },
  {
   "cell_type": "code",
   "execution_count": 28,
   "metadata": {
    "scrolled": true
   },
   "outputs": [
    {
     "name": "stdout",
     "output_type": "stream",
     "text": [
      "<class 'pandas.core.frame.DataFrame'>\n",
      "RangeIndex: 18600 entries, 0 to 18599\n",
      "Data columns (total 10 columns):\n",
      "Date of Sale (dd/mm/yyyy)    18600 non-null object\n",
      "Address                      18600 non-null object\n",
      "Postal Code                  11667 non-null object\n",
      "County                       18600 non-null object\n",
      " Price                       18600 non-null object\n",
      "Not Full Market Price        18600 non-null object\n",
      "VAT Exclusive                18600 non-null object\n",
      "Description of Property      18600 non-null object\n",
      "Property Size Description    4195 non-null object\n",
      "Month                        18600 non-null int64\n",
      "dtypes: int64(1), object(9)\n",
      "memory usage: 1.4+ MB\n",
      "None\n"
     ]
    }
   ],
   "source": [
    "print df.info()"
   ]
  },
  {
   "cell_type": "code",
   "execution_count": 32,
   "metadata": {
    "scrolled": false
   },
   "outputs": [
    {
     "name": "stdout",
     "output_type": "stream",
     "text": [
      "  Date of Sale (dd/mm/yyyy)                                   Address  \\\n",
      "0                02/01/2018                 1 ABBEY ST, HOWTH, DUBLIN   \n",
      "1                02/01/2018         1 ROSEVILLE, LOWER ROAD, SHANKILL   \n",
      "2                02/01/2018            19 ULVERTON RD, DALKEY, DUBLIN   \n",
      "3                02/01/2018        236 PHIBSBORO RD, DUBLIN 7, DUBLIN   \n",
      "4                02/01/2018  3 COLLEGE COURT, PORTRANE ROAD, DONABATE   \n",
      "\n",
      "  Postal Code  County      Price  Not Full Market Price VAT Exclusive  \\\n",
      "0    Dublin 7  Dublin   710000.00                    No            No   \n",
      "1   Dublin 18  Dublin   627230.70                    No            No   \n",
      "2         NaN  Dublin  1130000.00                    No            No   \n",
      "3    Dublin 7  Dublin   277000.00                    No            No   \n",
      "4         NaN  Dublin   348017.62                    No            No   \n",
      "\n",
      "                 Description of Property Property Size Description  Month  \n",
      "0  Second-Hand Dwelling house /Apartment                       NaN      2  \n",
      "1  Second-Hand Dwelling house /Apartment                       NaN      2  \n",
      "2  Second-Hand Dwelling house /Apartment                       NaN      2  \n",
      "3  Second-Hand Dwelling house /Apartment                       NaN      2  \n",
      "4  Second-Hand Dwelling house /Apartment                       NaN      2  \n"
     ]
    }
   ],
   "source": [
    "print df[:5]"
   ]
  },
  {
   "cell_type": "code",
   "execution_count": 35,
   "metadata": {},
   "outputs": [
    {
     "data": {
      "text/html": [
       "<div>\n",
       "<style scoped>\n",
       "    .dataframe tbody tr th:only-of-type {\n",
       "        vertical-align: middle;\n",
       "    }\n",
       "\n",
       "    .dataframe tbody tr th {\n",
       "        vertical-align: top;\n",
       "    }\n",
       "\n",
       "    .dataframe thead th {\n",
       "        text-align: right;\n",
       "    }\n",
       "</style>\n",
       "<table border=\"1\" class=\"dataframe\">\n",
       "  <thead>\n",
       "    <tr style=\"text-align: right;\">\n",
       "      <th></th>\n",
       "      <th>CPI</th>\n",
       "      <th>Month</th>\n",
       "    </tr>\n",
       "  </thead>\n",
       "  <tbody>\n",
       "    <tr>\n",
       "      <th>0</th>\n",
       "      <td>99.7</td>\n",
       "      <td>1</td>\n",
       "    </tr>\n",
       "    <tr>\n",
       "      <th>1</th>\n",
       "      <td>100.6</td>\n",
       "      <td>2</td>\n",
       "    </tr>\n",
       "    <tr>\n",
       "      <th>2</th>\n",
       "      <td>100.9</td>\n",
       "      <td>3</td>\n",
       "    </tr>\n",
       "    <tr>\n",
       "      <th>3</th>\n",
       "      <td>100.7</td>\n",
       "      <td>4</td>\n",
       "    </tr>\n",
       "    <tr>\n",
       "      <th>4</th>\n",
       "      <td>101.3</td>\n",
       "      <td>5</td>\n",
       "    </tr>\n",
       "  </tbody>\n",
       "</table>\n",
       "</div>"
      ],
      "text/plain": [
       "     CPI  Month\n",
       "0   99.7      1\n",
       "1  100.6      2\n",
       "2  100.9      3\n",
       "3  100.7      4\n",
       "4  101.3      5"
      ]
     },
     "execution_count": 35,
     "metadata": {},
     "output_type": "execute_result"
    }
   ],
   "source": [
    "# data source: https://www.cso.ie/px/pxeirestat/Statire/SelectVarVal/saveselections.asp\n",
    "cpi = {'Month': [1,2,3,4,5,6,7,8,9,10,11,12], \n",
    "    'CPI': [99.7,100.6,100.9,100.7,101.3,101.4,101.8,102.1,101.7,101.6,101.1,101.1]}\n",
    "cpi = pd.DataFrame(data=cpi)\n",
    "cpi[:5]"
   ]
  },
  {
   "cell_type": "code",
   "execution_count": 39,
   "metadata": {
    "scrolled": false
   },
   "outputs": [
    {
     "name": "stdout",
     "output_type": "stream",
     "text": [
      "Month\n",
      "1     419429.178301\n",
      "2     445577.873436\n",
      "3     412006.294752\n",
      "4     420850.732893\n",
      "5     435558.075076\n",
      "6     657038.695139\n",
      "7     517144.403954\n",
      "8     458760.895526\n",
      "9     438277.919718\n",
      "10    541269.692280\n",
      "11    411043.681969\n",
      "12    460954.650263\n",
      "Name: Price, dtype: float64\n"
     ]
    }
   ],
   "source": [
    "# df['Month']=pd.DatetimeIndex(df['Date of Sale (dd/mm/yyyy)']).month\n",
    "# print(df['Month'].unique())\n",
    "# df[' Price '] = df[' Price '].str.replace(',','')\n",
    "df['Price'] =df[' Price '] .astype(float)\n",
    "propertyPrice= df.groupby('Month')['Price'].mean()\n",
    "print propertyPrice\n",
    "\n"
   ]
  },
  {
   "cell_type": "code",
   "execution_count": 40,
   "metadata": {},
   "outputs": [
    {
     "data": {
      "text/html": [
       "<div>\n",
       "<style scoped>\n",
       "    .dataframe tbody tr th:only-of-type {\n",
       "        vertical-align: middle;\n",
       "    }\n",
       "\n",
       "    .dataframe tbody tr th {\n",
       "        vertical-align: top;\n",
       "    }\n",
       "\n",
       "    .dataframe thead th {\n",
       "        text-align: right;\n",
       "    }\n",
       "</style>\n",
       "<table border=\"1\" class=\"dataframe\">\n",
       "  <thead>\n",
       "    <tr style=\"text-align: right;\">\n",
       "      <th></th>\n",
       "      <th>Month</th>\n",
       "      <th>Price</th>\n",
       "      <th>CPI</th>\n",
       "    </tr>\n",
       "  </thead>\n",
       "  <tbody>\n",
       "    <tr>\n",
       "      <th>0</th>\n",
       "      <td>1</td>\n",
       "      <td>419429.178301</td>\n",
       "      <td>99.7</td>\n",
       "    </tr>\n",
       "    <tr>\n",
       "      <th>1</th>\n",
       "      <td>2</td>\n",
       "      <td>445577.873436</td>\n",
       "      <td>100.6</td>\n",
       "    </tr>\n",
       "    <tr>\n",
       "      <th>2</th>\n",
       "      <td>3</td>\n",
       "      <td>412006.294752</td>\n",
       "      <td>100.9</td>\n",
       "    </tr>\n",
       "    <tr>\n",
       "      <th>3</th>\n",
       "      <td>4</td>\n",
       "      <td>420850.732893</td>\n",
       "      <td>100.7</td>\n",
       "    </tr>\n",
       "    <tr>\n",
       "      <th>4</th>\n",
       "      <td>5</td>\n",
       "      <td>435558.075076</td>\n",
       "      <td>101.3</td>\n",
       "    </tr>\n",
       "    <tr>\n",
       "      <th>5</th>\n",
       "      <td>6</td>\n",
       "      <td>657038.695139</td>\n",
       "      <td>101.4</td>\n",
       "    </tr>\n",
       "    <tr>\n",
       "      <th>6</th>\n",
       "      <td>7</td>\n",
       "      <td>517144.403954</td>\n",
       "      <td>101.8</td>\n",
       "    </tr>\n",
       "    <tr>\n",
       "      <th>7</th>\n",
       "      <td>8</td>\n",
       "      <td>458760.895526</td>\n",
       "      <td>102.1</td>\n",
       "    </tr>\n",
       "    <tr>\n",
       "      <th>8</th>\n",
       "      <td>9</td>\n",
       "      <td>438277.919718</td>\n",
       "      <td>101.7</td>\n",
       "    </tr>\n",
       "    <tr>\n",
       "      <th>9</th>\n",
       "      <td>10</td>\n",
       "      <td>541269.692280</td>\n",
       "      <td>101.6</td>\n",
       "    </tr>\n",
       "    <tr>\n",
       "      <th>10</th>\n",
       "      <td>11</td>\n",
       "      <td>411043.681969</td>\n",
       "      <td>101.1</td>\n",
       "    </tr>\n",
       "    <tr>\n",
       "      <th>11</th>\n",
       "      <td>12</td>\n",
       "      <td>460954.650263</td>\n",
       "      <td>101.1</td>\n",
       "    </tr>\n",
       "  </tbody>\n",
       "</table>\n",
       "</div>"
      ],
      "text/plain": [
       "    Month          Price    CPI\n",
       "0       1  419429.178301   99.7\n",
       "1       2  445577.873436  100.6\n",
       "2       3  412006.294752  100.9\n",
       "3       4  420850.732893  100.7\n",
       "4       5  435558.075076  101.3\n",
       "5       6  657038.695139  101.4\n",
       "6       7  517144.403954  101.8\n",
       "7       8  458760.895526  102.1\n",
       "8       9  438277.919718  101.7\n",
       "9      10  541269.692280  101.6\n",
       "10     11  411043.681969  101.1\n",
       "11     12  460954.650263  101.1"
      ]
     },
     "execution_count": 40,
     "metadata": {},
     "output_type": "execute_result"
    }
   ],
   "source": [
    "cleanData=pd.merge(propertyPrice, cpi, left_on='Month', right_on='Month')\n",
    "cleanData"
   ]
  },
  {
   "cell_type": "code",
   "execution_count": 42,
   "metadata": {},
   "outputs": [
    {
     "name": "stderr",
     "output_type": "stream",
     "text": [
      "/System/Library/Frameworks/Python.framework/Versions/2.7/Extras/lib/python/matplotlib/collections.py:548: FutureWarning: elementwise comparison failed; returning scalar instead, but in the future will perform elementwise comparison\n",
      "  if self._edgecolors == 'face':\n"
     ]
    }
   ],
   "source": [
    "# sudo -H pip install astropy --ignore-installed sklearn\n",
    "from sklearn import linear_model\n",
    "import matplotlib.pyplot as plt\n",
    "import numpy as np\n",
    "X = np.array(cleanData[['CPI']])\n",
    "Y = np.array(cleanData[['Price']])\n",
    "plt.rc('font',family='STXihei',size=15)\n",
    "plt.scatter(X,Y,60,color='blue',marker='o',linewidths=3,alpha=0.4)\n",
    "plt.xlabel('CPI')\n",
    "plt.ylabel('PropertyPrice')\n",
    "plt.title('Data Information')\n",
    "plt.show()"
   ]
  },
  {
   "cell_type": "code",
   "execution_count": 43,
   "metadata": {},
   "outputs": [
    {
     "name": "stdout",
     "output_type": "stream",
     "text": [
      "(array([[44330.23004811]]), array([-4016582.26542443]))\n",
      "0.1579830604990079\n"
     ]
    }
   ],
   "source": [
    "clf = linear_model.LinearRegression()\n",
    "clf.fit(X,Y)\n",
    "print(clf.coef_,clf.intercept_)\n",
    "print(clf.score(X,Y))"
   ]
  },
  {
   "cell_type": "code",
   "execution_count": null,
   "metadata": {},
   "outputs": [],
   "source": []
  },
  {
   "cell_type": "markdown",
   "metadata": {},
   "source": [
    "There are two competing concerns: with less training data, your parameter estimates have greater variance. With less testing data, your performance statistic will have greater variance. Broadly speaking you should be concerned with dividing data such that neither variance is too high, which is more to do with the absolute number of instances in each category rather than the percentage.\n",
    "\n",
    "If you have a total of 100 instances, you're probably stuck with cross validation as no single split is going to give you satisfactory variance in your estimates. If you have 100,000 instances, it doesn't really matter whether you choose an 80:20 split or a 90:10 split (indeed you may choose to use less training data if your method is particularly computationally intensive).\n",
    "\n",
    "Assuming you have enough data to do proper held-out test data (rather than cross-validation), the following is an instructive way to get a handle on variances:\n",
    "\n",
    "Split your data into training and testing (80/20 is indeed a good starting point)\n",
    "Split the training data into training and validation (again, 80/20 is a fair split).\n",
    "Subsample random selections of your training data, train the classifier with this, and record the performance on the validation set\n",
    "Try a series of runs with different amounts of training data: randomly sample 20% of it, say, 10 times and observe performance on the validation data, then do the same with 40%, 60%, 80%. You should see both greater performance with more data, but also lower variance across the different random samples\n",
    "To get a handle on variance due to the size of test data, perform the same procedure in reverse. Train on all of your training data, then randomly sample a percentage of your validation data a number of times, and observe performance. You should now find that the mean performance on small samples of your validation data is roughly the same as the performance on all the validation data, but the variance is much higher with smaller numbers of test samples\n",
    "\n",
    "\n",
    "Last year, I followed Prof: Andrew Ng’s online machine learning course. His recommendation was\n",
    "\n",
    "Training: 60%\n",
    "\n",
    "Cross validation: 20%\n",
    "\n",
    "Testing: 20%"
   ]
  },
  {
   "cell_type": "code",
   "execution_count": null,
   "metadata": {},
   "outputs": [],
   "source": []
  },
  {
   "cell_type": "code",
   "execution_count": null,
   "metadata": {},
   "outputs": [],
   "source": []
  },
  {
   "cell_type": "code",
   "execution_count": null,
   "metadata": {},
   "outputs": [],
   "source": []
  }
 ],
 "metadata": {
  "kernelspec": {
   "display_name": "Python 2",
   "language": "python",
   "name": "python2"
  },
  "language_info": {
   "codemirror_mode": {
    "name": "ipython",
    "version": 2
   },
   "file_extension": ".py",
   "mimetype": "text/x-python",
   "name": "python",
   "nbconvert_exporter": "python",
   "pygments_lexer": "ipython2",
   "version": "2.7.10"
  }
 },
 "nbformat": 4,
 "nbformat_minor": 2
}
